{
 "cells": [
  {
   "cell_type": "code",
   "execution_count": 2,
   "metadata": {},
   "outputs": [
    {
     "name": "stdout",
     "output_type": "stream",
     "text": [
      "[10, 20, 30]\n"
     ]
    }
   ],
   "source": [
    "# Basic list creation\n",
    "lst = [10,20,30]\n",
    "print(lst)"
   ]
  },
  {
   "cell_type": "code",
   "execution_count": 3,
   "metadata": {},
   "outputs": [
    {
     "name": "stdout",
     "output_type": "stream",
     "text": [
      "[10, True, 'Hello', (3+5j)]\n"
     ]
    }
   ],
   "source": [
    "#list can store all types even complex variable\n",
    "lst = [10, True, 'Hello', 3+5j]\n",
    "print(lst)\n",
    "#Note list have comma in between"
   ]
  },
  {
   "cell_type": "markdown",
   "metadata": {},
   "source": [
    "### Working with numpy"
   ]
  },
  {
   "cell_type": "code",
   "execution_count": 6,
   "metadata": {},
   "outputs": [
    {
     "name": "stdout",
     "output_type": "stream",
     "text": [
      "['10' 'True' 'Hello' '(3+5j)']\n"
     ]
    }
   ],
   "source": [
    "# SHIFT + TAB to get documentation\n",
    "import numpy as np\n",
    "#Coverting list object to an array\n",
    "arr = np.array(lst)\n",
    "print(arr)"
   ]
  },
  {
   "cell_type": "code",
   "execution_count": 7,
   "metadata": {},
   "outputs": [
    {
     "name": "stdout",
     "output_type": "stream",
     "text": [
      "<class 'numpy.str_'> <class 'numpy.str_'>\n"
     ]
    }
   ],
   "source": [
    "#Chekcing the type of array objects, All the types in array are String\n",
    "print(type(arr[0]), type(arr[3]))"
   ]
  },
  {
   "cell_type": "code",
   "execution_count": 8,
   "metadata": {},
   "outputs": [
    {
     "name": "stdout",
     "output_type": "stream",
     "text": [
      "[1. 2. 3. 4.]\n",
      "<class 'numpy.float64'>\n",
      "<class 'numpy.str_'>\n"
     ]
    }
   ],
   "source": [
    "#Passing List object directly in array and making it of type as float64\n",
    "arr = np.array([1,2,3,4],dtype=np.float64) \n",
    "print(arr)\n",
    "print(type(arr[0]))\n",
    "\n",
    "#. for String we can type as 'str_'\n",
    "str_arr = np.array([1,2,3,5],dtype=np.str_)\n",
    "print(type(str_arr[0]))"
   ]
  },
  {
   "cell_type": "code",
   "execution_count": 9,
   "metadata": {},
   "outputs": [
    {
     "name": "stdout",
     "output_type": "stream",
     "text": [
      "[[1 2 3]\n",
      " [4 5 6]]\n"
     ]
    }
   ],
   "source": [
    "#Creating Multidimensional array using reshape\n",
    "print(np.array([1,2,3,4,5,6]).reshape(2,3))"
   ]
  },
  {
   "cell_type": "code",
   "execution_count": 10,
   "metadata": {},
   "outputs": [
    {
     "name": "stdout",
     "output_type": "stream",
     "text": [
      "[[1 2 3]\n",
      " [4 5 6]]\n"
     ]
    }
   ],
   "source": [
    "#Passing list to create array, We have to pass \"list of list ==> [[],[]]\"\n",
    "multi = np.array([[1,2,3],[4,5,6]])\n",
    "print(multi)"
   ]
  },
  {
   "cell_type": "code",
   "execution_count": 11,
   "metadata": {},
   "outputs": [
    {
     "name": "stdout",
     "output_type": "stream",
     "text": [
      "[[4 5 6]\n",
      " [6 1 3]]\n"
     ]
    }
   ],
   "source": [
    "#Creating using matrix function,  We have to pass \"list of list ==> [[],[]]\"\n",
    "multi_mat = np.matrix([[4,5,6],[6,1,3]])\n",
    "print(multi_mat)"
   ]
  },
  {
   "cell_type": "code",
   "execution_count": 12,
   "metadata": {},
   "outputs": [
    {
     "name": "stdout",
     "output_type": "stream",
     "text": [
      "[[1 0]\n",
      " [0 1]\n",
      " [0 0]]\n"
     ]
    }
   ],
   "source": [
    "# Creating Identity Matrix, 2-D array with ones on the diagonal and zeros elsewhere.\n",
    "iden_mat = np.eye(3,2,dtype=np.int64)\n",
    "print(iden_mat)"
   ]
  },
  {
   "cell_type": "code",
   "execution_count": 13,
   "metadata": {},
   "outputs": [
    {
     "name": "stdout",
     "output_type": "stream",
     "text": [
      "[[0. 0.]\n",
      " [0. 0.]\n",
      " [0. 0.]]\n"
     ]
    }
   ],
   "source": [
    "#Creating a new array of given shape and type, filled with zeros.\n",
    "zeros = np.zeros((3,2))\n",
    "print(zeros)"
   ]
  },
  {
   "cell_type": "code",
   "execution_count": 14,
   "metadata": {},
   "outputs": [
    {
     "name": "stdout",
     "output_type": "stream",
     "text": [
      "[[1. 1. 1. 1.]\n",
      " [1. 1. 1. 1.]\n",
      " [1. 1. 1. 1.]\n",
      " [1. 1. 1. 1.]]\n"
     ]
    }
   ],
   "source": [
    "# New array of given shape and type, filled with ones.\n",
    "ones = np.ones((4,4))\n",
    "print(ones)"
   ]
  },
  {
   "cell_type": "code",
   "execution_count": 16,
   "metadata": {},
   "outputs": [
    {
     "name": "stdout",
     "output_type": "stream",
     "text": [
      "[[1 1 1]\n",
      " [1 1 1]\n",
      " [1 1 1]]\n"
     ]
    }
   ],
   "source": [
    "# New array of given shape and type, filled with ones but of int type\n",
    "one_int = np.ones((3,3),dtype=np.int16)\n",
    "print(one_int)"
   ]
  },
  {
   "cell_type": "code",
   "execution_count": 15,
   "metadata": {},
   "outputs": [
    {
     "name": "stdout",
     "output_type": "stream",
     "text": [
      "[[7 7 7]\n",
      " [7 7 7]\n",
      " [7 7 7]]\n"
     ]
    }
   ],
   "source": [
    "# Creating array of filled with other number instead of one. We just have to multiply with the specific number\n",
    "ones_diff = np.ones((3,3),dtype=np.int32)*7\n",
    "print(ones_diff)"
   ]
  },
  {
   "cell_type": "markdown",
   "metadata": {},
   "source": [
    "#### Random Matrix"
   ]
  },
  {
   "cell_type": "code",
   "execution_count": 17,
   "metadata": {},
   "outputs": [
    {
     "name": "stdout",
     "output_type": "stream",
     "text": [
      "[[0.63584767 0.14194963 0.14432043 0.3799196  0.38160485]\n",
      " [0.33662906 0.6242257  0.14115958 0.89603636 0.32232264]\n",
      " [0.91864689 0.93721977 0.51335771 0.45447747 0.06078182]\n",
      " [0.10427826 0.308825   0.14767574 0.14704773 0.11206084]\n",
      " [0.67017863 0.50600886 0.19984853 0.69885331 0.61336449]]\n",
      "[[0.55822626 0.3004475 ]\n",
      " [0.98996528 0.02386592]\n",
      " [0.51298513 0.70995609]]\n"
     ]
    }
   ],
   "source": [
    "# Generating 0-1 random array of 5 elements\n",
    "rand_array =  np.random.rand(5,5)\n",
    "print(rand_array)\n",
    "\n",
    "rand_array_reshape = np.random.rand(6).reshape(3,2)\n",
    "print(rand_array_reshape)"
   ]
  },
  {
   "cell_type": "code",
   "execution_count": 18,
   "metadata": {},
   "outputs": [
    {
     "name": "stdout",
     "output_type": "stream",
     "text": [
      "[1 3 1 3 3 2 2 1 3 3]\n"
     ]
    }
   ],
   "source": [
    "# Creating array of Random int (including 1 and excluding 4) total of 10 numbers\n",
    "rand_int = np.random.randint(1,4,10)\n",
    "print(rand_int)"
   ]
  },
  {
   "cell_type": "code",
   "execution_count": 50,
   "metadata": {},
   "outputs": [
    {
     "data": {
      "text/plain": [
       "array([[93, 36],\n",
       "       [10,  6],\n",
       "       [40, 87],\n",
       "       [63, 44],\n",
       "       [14, 62]])"
      ]
     },
     "execution_count": 50,
     "metadata": {},
     "output_type": "execute_result"
    }
   ],
   "source": [
    "#Creating matrix from random int\n",
    "rand_int_20 = np.random.randint(1,101,10).reshape(5,2)\n",
    "print(rand_int_20)"
   ]
  },
  {
   "cell_type": "markdown",
   "metadata": {},
   "source": [
    "#### Array Range"
   ]
  },
  {
   "cell_type": "code",
   "execution_count": 19,
   "metadata": {},
   "outputs": [
    {
     "name": "stdout",
     "output_type": "stream",
     "text": [
      "[0 1 2 3 4 5 6 7 8 9]\n",
      "[ 2  4  6  8 10 12 14 16 18 20]\n",
      "[[ 2  4]\n",
      " [ 6  8]\n",
      " [10 12]\n",
      " [14 16]\n",
      " [18 20]]\n"
     ]
    }
   ],
   "source": [
    "arange = np.arange(10)\n",
    "print(arange)\n",
    "\n",
    "# np.arange(start,end-value-excluded, stepsize)\n",
    "arange_start_end = np.arange(2,21,2)\n",
    "print(arange_start_end)\n",
    "\n",
    "#Shaping the array from Range function and reshape\n",
    "arange_start_end_reshape = np.arange(2,21,2).reshape(5,2)\n",
    "print(arange_start_end_reshape)"
   ]
  },
  {
   "cell_type": "code",
   "execution_count": 20,
   "metadata": {},
   "outputs": [
    {
     "name": "stdout",
     "output_type": "stream",
     "text": [
      "(5, 2)\n"
     ]
    }
   ],
   "source": [
    "#Checking shape of the matrix\n",
    "print(np.shape(arange_start_end_reshape))"
   ]
  },
  {
   "cell_type": "code",
   "execution_count": 21,
   "metadata": {},
   "outputs": [
    {
     "name": "stdout",
     "output_type": "stream",
     "text": [
      "5\n"
     ]
    }
   ],
   "source": [
    "#It will give me the matrix rows\n",
    "print(arange_start_end_reshape.shape[0])"
   ]
  },
  {
   "cell_type": "code",
   "execution_count": 64,
   "metadata": {},
   "outputs": [
    {
     "data": {
      "text/plain": [
       "2"
      ]
     },
     "execution_count": 64,
     "metadata": {},
     "output_type": "execute_result"
    }
   ],
   "source": [
    "#It will give me the matrix columns\n",
    "arange_start_end_reshape.shape[1]"
   ]
  },
  {
   "cell_type": "code",
   "execution_count": 89,
   "metadata": {},
   "outputs": [
    {
     "data": {
      "text/plain": [
       "0"
      ]
     },
     "execution_count": 89,
     "metadata": {},
     "output_type": "execute_result"
    }
   ],
   "source": [
    "#Getting the minumum element from my matrix\n",
    "arange_start_end_reshape.argmin()"
   ]
  },
  {
   "cell_type": "code",
   "execution_count": 90,
   "metadata": {},
   "outputs": [
    {
     "data": {
      "text/plain": [
       "9"
      ]
     },
     "execution_count": 90,
     "metadata": {},
     "output_type": "execute_result"
    }
   ],
   "source": [
    "#Getting the max element from my matrix\n",
    "arange_start_end_reshape.argmax()"
   ]
  },
  {
   "cell_type": "markdown",
   "metadata": {},
   "source": [
    "#### Indexing and Selection"
   ]
  },
  {
   "cell_type": "code",
   "execution_count": 82,
   "metadata": {},
   "outputs": [
    {
     "data": {
      "text/plain": [
       "array([ 1,  4,  7, 10, 13, 16, 19])"
      ]
     },
     "execution_count": 82,
     "metadata": {},
     "output_type": "execute_result"
    }
   ],
   "source": [
    "#Creating a new array using arange function (start,end-excluded, stepsize)\n",
    "aaran =  np.arange(1,22,3)\n",
    "aaran"
   ]
  },
  {
   "cell_type": "code",
   "execution_count": 83,
   "metadata": {},
   "outputs": [
    {
     "data": {
      "text/plain": [
       "13"
      ]
     },
     "execution_count": 83,
     "metadata": {},
     "output_type": "execute_result"
    }
   ],
   "source": [
    "#This will get me the 4th element from the array\n",
    "aaran[4]"
   ]
  },
  {
   "cell_type": "code",
   "execution_count": 84,
   "metadata": {},
   "outputs": [
    {
     "data": {
      "text/plain": [
       "array([ 7, 10, 13])"
      ]
     },
     "execution_count": 84,
     "metadata": {},
     "output_type": "execute_result"
    }
   ],
   "source": [
    "#Slicing , It will exlclude variable at 5th position\n",
    "aaran[2:5]"
   ]
  },
  {
   "cell_type": "code",
   "execution_count": 85,
   "metadata": {},
   "outputs": [
    {
     "data": {
      "text/plain": [
       "16"
      ]
     },
     "execution_count": 85,
     "metadata": {},
     "output_type": "execute_result"
    }
   ],
   "source": [
    "#This -2 will get the second last element from my array, likewise -1 will get me the last element of array\n",
    "aaran[-2]"
   ]
  },
  {
   "cell_type": "code",
   "execution_count": 86,
   "metadata": {},
   "outputs": [
    {
     "data": {
      "text/plain": [
       "array([ 1,  4,  7, 10, 13, 16])"
      ]
     },
     "execution_count": 86,
     "metadata": {},
     "output_type": "execute_result"
    }
   ],
   "source": [
    "#Staring from zero till 5th position\n",
    "aaran[:6]"
   ]
  },
  {
   "cell_type": "code",
   "execution_count": 95,
   "metadata": {},
   "outputs": [
    {
     "data": {
      "text/plain": [
       "array([100, 100, 100, 100, 100])"
      ]
     },
     "execution_count": 95,
     "metadata": {},
     "output_type": "execute_result"
    }
   ],
   "source": [
    "#Broadcasting, Here from 0 to 4 element values are changed to 100, This is called Broadcasting\n",
    "slice_array = aaran[0:5] \n",
    "slice_array[0:5] = 100\n",
    "slice_array"
   ]
  },
  {
   "cell_type": "code",
   "execution_count": 96,
   "metadata": {},
   "outputs": [
    {
     "data": {
      "text/plain": [
       "array([100, 100, 100, 100, 100,  16,  19])"
      ]
     },
     "execution_count": 96,
     "metadata": {},
     "output_type": "execute_result"
    }
   ],
   "source": [
    "#Note above slice array is chaning the element of my main array too :(\n",
    "aaran"
   ]
  },
  {
   "cell_type": "code",
   "execution_count": 22,
   "metadata": {},
   "outputs": [
    {
     "name": "stdout",
     "output_type": "stream",
     "text": [
      "[ 2  5  8 11 14 17 20 23]\n",
      "[99 99 99 99 99 99 20 23]\n"
     ]
    }
   ],
   "source": [
    "#To avoid changing the main array we have copy function\n",
    "\n",
    "#Creating a new array first\n",
    "my_new_array = np.arange(2,26,3)\n",
    "print(my_new_array)\n",
    "\n",
    "#Creating a copy of my main array\n",
    "my_copy_array = my_new_array.copy()\n",
    "\n",
    "#Creating a slice from my copied array\n",
    "my_copy_slice = my_copy_array[:6]\n",
    "\n",
    "#Changing the element of my sliced array\n",
    "my_copy_slice[:6] = 99\n",
    "print(my_copy_array)"
   ]
  },
  {
   "cell_type": "code",
   "execution_count": 23,
   "metadata": {},
   "outputs": [
    {
     "name": "stdout",
     "output_type": "stream",
     "text": [
      "[ 2  5  8 11 14 17 20 23]\n"
     ]
    }
   ],
   "source": [
    "#My main array is not changed, this time only copied array is changed\n",
    "print(my_new_array)"
   ]
  },
  {
   "cell_type": "markdown",
   "metadata": {},
   "source": [
    "#### Indexing of Matrices"
   ]
  },
  {
   "cell_type": "code",
   "execution_count": 116,
   "metadata": {},
   "outputs": [
    {
     "data": {
      "text/plain": [
       "array([[ 1,  6, 11, 16],\n",
       "       [21, 26, 31, 36],\n",
       "       [41, 46, 51, 56],\n",
       "       [61, 66, 71, 76],\n",
       "       [81, 86, 91, 96]])"
      ]
     },
     "execution_count": 116,
     "metadata": {},
     "output_type": "execute_result"
    }
   ],
   "source": [
    "# Creating a matrix of (5,4)\n",
    "matx = np.arange(1,100,5).reshape(5,4)\n",
    "matx"
   ]
  },
  {
   "cell_type": "code",
   "execution_count": 117,
   "metadata": {},
   "outputs": [
    {
     "data": {
      "text/plain": [
       "array([ 1,  6, 11, 16])"
      ]
     },
     "execution_count": 117,
     "metadata": {},
     "output_type": "execute_result"
    }
   ],
   "source": [
    "#It will print the zeroth row of the matrix\n",
    "matx[0]"
   ]
  },
  {
   "cell_type": "code",
   "execution_count": 119,
   "metadata": {},
   "outputs": [
    {
     "data": {
      "text/plain": [
       "36"
      ]
     },
     "execution_count": 119,
     "metadata": {},
     "output_type": "execute_result"
    }
   ],
   "source": [
    "# It will give the value of 1st row and 3rd column\n",
    "matx[1][3]"
   ]
  },
  {
   "cell_type": "code",
   "execution_count": 120,
   "metadata": {},
   "outputs": [
    {
     "data": {
      "text/plain": [
       "36"
      ]
     },
     "execution_count": 120,
     "metadata": {},
     "output_type": "execute_result"
    }
   ],
   "source": [
    "#This will also give the output same as above\n",
    "matx[1,3]"
   ]
  },
  {
   "cell_type": "code",
   "execution_count": 121,
   "metadata": {},
   "outputs": [
    {
     "data": {
      "text/plain": [
       "array([26, 46, 66])"
      ]
     },
     "execution_count": 121,
     "metadata": {},
     "output_type": "execute_result"
    }
   ],
   "source": [
    "#It will give the 1st column value of 1,2,3 row \n",
    "matx[[1,2,3],1]"
   ]
  },
  {
   "cell_type": "code",
   "execution_count": 122,
   "metadata": {},
   "outputs": [
    {
     "data": {
      "text/plain": [
       "array([26, 51, 76])"
      ]
     },
     "execution_count": 122,
     "metadata": {},
     "output_type": "execute_result"
    }
   ],
   "source": [
    "#Similary we can give multiple columns as well\n",
    "matx[[1,2,3],[1,2,3]]"
   ]
  },
  {
   "cell_type": "code",
   "execution_count": 123,
   "metadata": {},
   "outputs": [
    {
     "data": {
      "text/plain": [
       "array([[ 6, 11, 16],\n",
       "       [26, 31, 36]])"
      ]
     },
     "execution_count": 123,
     "metadata": {},
     "output_type": "execute_result"
    }
   ],
   "source": [
    "# 0th and 1st Row  --- 1 column to last column\n",
    "matx[:2,1:]"
   ]
  },
  {
   "cell_type": "code",
   "execution_count": 124,
   "metadata": {},
   "outputs": [
    {
     "data": {
      "text/plain": [
       "array([], shape=(3, 0), dtype=int32)"
      ]
     },
     "execution_count": 124,
     "metadata": {},
     "output_type": "execute_result"
    }
   ],
   "source": [
    "#Here we won't be gettiing the error it will give nothing, since 4th Column does not exist.\n",
    "matx[2:5,4:7]"
   ]
  },
  {
   "cell_type": "code",
   "execution_count": 125,
   "metadata": {},
   "outputs": [
    {
     "data": {
      "text/plain": [
       "array([[56],\n",
       "       [76],\n",
       "       [96]])"
      ]
     },
     "execution_count": 125,
     "metadata": {},
     "output_type": "execute_result"
    }
   ],
   "source": [
    "#Changing the index postion of Column and we are getting the value. So numpy does not give the error in such cases index out of bound error.\n",
    "matx[2:5,3:7]"
   ]
  },
  {
   "cell_type": "code",
   "execution_count": 126,
   "metadata": {},
   "outputs": [
    {
     "data": {
      "text/plain": [
       "array([ 1,  4,  7, 10, 13, 16, 19])"
      ]
     },
     "execution_count": 126,
     "metadata": {},
     "output_type": "execute_result"
    }
   ],
   "source": [
    "#Creating a new array\n",
    "arr = np.arange(1,20,3)\n",
    "arr"
   ]
  },
  {
   "cell_type": "code",
   "execution_count": 128,
   "metadata": {},
   "outputs": [
    {
     "data": {
      "text/plain": [
       "array([10, 13])"
      ]
     },
     "execution_count": 128,
     "metadata": {},
     "output_type": "execute_result"
    }
   ],
   "source": [
    "#Fetching element based on condition, element in array greater than 7 and less than 16\n",
    "arr[(arr>7) & (arr<16)]"
   ]
  },
  {
   "cell_type": "code",
   "execution_count": 129,
   "metadata": {},
   "outputs": [
    {
     "data": {
      "text/plain": [
       "array([False, False, False,  True,  True, False, False])"
      ]
     },
     "execution_count": 129,
     "metadata": {},
     "output_type": "execute_result"
    }
   ],
   "source": [
    "#Creating an array of Boolean from our condition\n",
    "bool = (arr>7) & (arr<16)\n",
    "bool"
   ]
  },
  {
   "cell_type": "markdown",
   "metadata": {},
   "source": [
    "#### Vectorised Operation"
   ]
  },
  {
   "cell_type": "code",
   "execution_count": 25,
   "metadata": {},
   "outputs": [],
   "source": [
    "#Creating two different operation to perform diff operation\n",
    "s_x = np.array([[1,2,3,4],[5,6,7,8]])\n",
    "s_y = np.array([[10,22,33,44],[55,66,77,88]])"
   ]
  },
  {
   "cell_type": "code",
   "execution_count": 26,
   "metadata": {},
   "outputs": [
    {
     "name": "stdout",
     "output_type": "stream",
     "text": [
      "[[ 9 20 30 40]\n",
      " [50 60 70 80]]\n"
     ]
    }
   ],
   "source": [
    "# Substracting two matrix \n",
    "print(s_y - s_x)"
   ]
  },
  {
   "cell_type": "code",
   "execution_count": 28,
   "metadata": {},
   "outputs": [
    {
     "name": "stdout",
     "output_type": "stream",
     "text": [
      "[[11 24 36 48]\n",
      " [60 72 84 96]]\n"
     ]
    }
   ],
   "source": [
    "# Adding two matrix \n",
    "print(s_y + s_x)"
   ]
  },
  {
   "cell_type": "code",
   "execution_count": 29,
   "metadata": {},
   "outputs": [
    {
     "name": "stdout",
     "output_type": "stream",
     "text": [
      "[[False False False False]\n",
      " [False  True  True  True]]\n"
     ]
    }
   ],
   "source": [
    "# Creating a matrix of boolean by comparing existing matrix where all elements are greater than 60\n",
    "print(s_y > 60)"
   ]
  },
  {
   "cell_type": "code",
   "execution_count": 30,
   "metadata": {},
   "outputs": [
    {
     "name": "stdout",
     "output_type": "stream",
     "text": [
      "[[ True  True  True  True]\n",
      " [ True False False False]]\n"
     ]
    }
   ],
   "source": [
    "# Creating a matrix where all element of 60, so that we can compare it with other matrix \n",
    "sixty_mat = np.ones((2,4))*60\n",
    "print(np.less(s_y,sixty_mat))"
   ]
  },
  {
   "cell_type": "code",
   "execution_count": 31,
   "metadata": {},
   "outputs": [
    {
     "data": {
      "text/plain": [
       "array([ 1,  3,  6, 10, 15, 21, 28, 36], dtype=int32)"
      ]
     },
     "execution_count": 31,
     "metadata": {},
     "output_type": "execute_result"
    }
   ],
   "source": [
    "#This is to calculate cummulative sum of both rows and column element by element\n",
    "c_x = np.cumsum(s_x)\n",
    "c_x"
   ]
  },
  {
   "cell_type": "code",
   "execution_count": 32,
   "metadata": {},
   "outputs": [
    {
     "name": "stdout",
     "output_type": "stream",
     "text": [
      "[[ 1  2  3  4]\n",
      " [ 6  8 10 12]]\n",
      "[[1 2 3 4]\n",
      " [5 6 7 8]]\n"
     ]
    }
   ],
   "source": [
    "#Cummulative sum along column since axis values is 0\n",
    "c_x = np.cumsum(s_x,axis=0)\n",
    "print(c_x)\n",
    "print(s_x)"
   ]
  },
  {
   "cell_type": "code",
   "execution_count": 144,
   "metadata": {},
   "outputs": [
    {
     "name": "stdout",
     "output_type": "stream",
     "text": [
      "[[ 1  3  6 10]\n",
      " [ 5 11 18 26]]\n",
      "\n",
      "\n",
      "[[1 2 3 4]\n",
      " [5 6 7 8]]\n"
     ]
    }
   ],
   "source": [
    "#Cummulative sum along row since axis value is 1\n",
    "c_x = np.cumsum(s_x,axis=1)\n",
    "print(c_x)\n",
    "print(s_x)"
   ]
  },
  {
   "cell_type": "code",
   "execution_count": 34,
   "metadata": {},
   "outputs": [
    {
     "name": "stdout",
     "output_type": "stream",
     "text": [
      "[32.5 44.  55.  66. ]\n",
      "\n",
      "\n",
      "[[10 22 33 44]\n",
      " [55 66 77 88]]\n"
     ]
    }
   ],
   "source": [
    "# Calculating the mean of a matrix along a specifix axis. axis = 0 is for column\n",
    "print(np.mean(s_y,axis = 0))\n",
    "print('\\n')\n",
    "print(s_y)"
   ]
  }
 ],
 "metadata": {
  "kernelspec": {
   "display_name": "Python 3",
   "language": "python",
   "name": "python3"
  },
  "language_info": {
   "codemirror_mode": {
    "name": "ipython",
    "version": 3
   },
   "file_extension": ".py",
   "mimetype": "text/x-python",
   "name": "python",
   "nbconvert_exporter": "python",
   "pygments_lexer": "ipython3",
   "version": "3.7.7"
  }
 },
 "nbformat": 4,
 "nbformat_minor": 4
}
